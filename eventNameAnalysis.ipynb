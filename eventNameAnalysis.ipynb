{
 "cells": [
  {
   "cell_type": "code",
   "execution_count": 1,
   "metadata": {},
   "outputs": [],
   "source": [
    "import pandas as pd"
   ]
  },
  {
   "cell_type": "code",
   "execution_count": 5,
   "metadata": {},
   "outputs": [],
   "source": [
    "data = pd.read_csv(\"./events_names.csv\", delimiter=',')"
   ]
  },
  {
   "cell_type": "code",
   "execution_count": 11,
   "metadata": {},
   "outputs": [
    {
     "name": "stdout",
     "output_type": "stream",
     "text": [
      "<class 'pandas.core.frame.DataFrame'>\n",
      "RangeIndex: 2661 entries, 0 to 2660\n",
      "Data columns (total 2 columns):\n",
      " #   Column  Non-Null Count  Dtype \n",
      "---  ------  --------------  ----- \n",
      " 0   name    2661 non-null   object\n",
      " 1   desc    2661 non-null   object\n",
      "dtypes: object(2)\n",
      "memory usage: 41.7+ KB\n"
     ]
    }
   ],
   "source": [
    "data.info()"
   ]
  },
  {
   "cell_type": "code",
   "execution_count": 51,
   "metadata": {},
   "outputs": [
    {
     "name": "stderr",
     "output_type": "stream",
     "text": [
      "<ipython-input-51-06250fee6bc4>:3: SettingWithCopyWarning: \n",
      "A value is trying to be set on a copy of a slice from a DataFrame.\n",
      "Try using .loc[row_indexer,col_indexer] = value instead\n",
      "\n",
      "See the caveats in the documentation: https://pandas.pydata.org/pandas-docs/stable/user_guide/indexing.html#returning-a-view-versus-a-copy\n",
      "  filtered['desc'] = filtered['desc'].str.replace('\\d+', '')\n",
      "<ipython-input-51-06250fee6bc4>:4: SettingWithCopyWarning: \n",
      "A value is trying to be set on a copy of a slice from a DataFrame.\n",
      "Try using .loc[row_indexer,col_indexer] = value instead\n",
      "\n",
      "See the caveats in the documentation: https://pandas.pydata.org/pandas-docs/stable/user_guide/indexing.html#returning-a-view-versus-a-copy\n",
      "  filtered['name'] = filtered['name'].str.replace('\\d+', '')\n",
      "<ipython-input-51-06250fee6bc4>:5: SettingWithCopyWarning: \n",
      "A value is trying to be set on a copy of a slice from a DataFrame.\n",
      "Try using .loc[row_indexer,col_indexer] = value instead\n",
      "\n",
      "See the caveats in the documentation: https://pandas.pydata.org/pandas-docs/stable/user_guide/indexing.html#returning-a-view-versus-a-copy\n",
      "  filtered['name'] = filtered['name'].str.replace('/', '')\n"
     ]
    }
   ],
   "source": [
    "not_include = ['ROSENGART CUP', 'Amatérsky', 'SŠ', 'UTORKOVÉ', 'RELAX']\n",
    "filtered = data[~data['name'].str.contains('|'.join(not_include))]\n",
    "filtered['desc'] = filtered['desc'].str.replace('\\d+', '')\n",
    "filtered['name'] = filtered['name'].str.replace('\\d+', '')\n",
    "filtered['name'] = filtered['name'].str.replace('/', '')\n",
    "filtered = filtered.replace(r\"^ +| +$\", r\"\", regex=True)\n"
   ]
  },
  {
   "cell_type": "code",
   "execution_count": 52,
   "metadata": {},
   "outputs": [
    {
     "name": "stdout",
     "output_type": "stream",
     "text": [
      "<class 'pandas.core.frame.DataFrame'>\n",
      "Int64Index: 1826 entries, 0 to 2649\n",
      "Data columns (total 2 columns):\n",
      " #   Column  Non-Null Count  Dtype \n",
      "---  ------  --------------  ----- \n",
      " 0   name    1826 non-null   object\n",
      " 1   desc    1826 non-null   object\n",
      "dtypes: object(2)\n",
      "memory usage: 42.8+ KB\n"
     ]
    }
   ],
   "source": [
    "filtered.info()"
   ]
  },
  {
   "cell_type": "code",
   "execution_count": 61,
   "metadata": {},
   "outputs": [
    {
     "data": {
      "text/html": [
       "<div>\n",
       "<style scoped>\n",
       "    .dataframe tbody tr th:only-of-type {\n",
       "        vertical-align: middle;\n",
       "    }\n",
       "\n",
       "    .dataframe tbody tr th {\n",
       "        vertical-align: top;\n",
       "    }\n",
       "\n",
       "    .dataframe thead th {\n",
       "        text-align: right;\n",
       "    }\n",
       "</style>\n",
       "<table border=\"1\" class=\"dataframe\">\n",
       "  <thead>\n",
       "    <tr style=\"text-align: right;\">\n",
       "      <th></th>\n",
       "      <th>name</th>\n",
       "      <th>desc</th>\n",
       "    </tr>\n",
       "  </thead>\n",
       "  <tbody>\n",
       "  </tbody>\n",
       "</table>\n",
       "</div>"
      ],
      "text/plain": [
       "Empty DataFrame\n",
       "Columns: [name, desc]\n",
       "Index: []"
      ]
     },
     "execution_count": 61,
     "metadata": {},
     "output_type": "execute_result"
    }
   ],
   "source": [
    "searchfor = ['Open doubles', 'Open singles', 'Open dvojice', 'Open jednotlivci', 'Ženy dvojice', 'Ženy jednotlivci', 'Women doubles', 'Women singles']\n",
    "filtered[filtered['desc'] == 'Muži dvojice']\n"
   ]
  },
  {
   "cell_type": "code",
   "execution_count": 54,
   "metadata": {},
   "outputs": [
    {
     "data": {
      "text/plain": [
       "array(['Amatérske dvojice', 'Ball rollerball', 'Miešané dvojice',\n",
       "       'Monster DYP', 'Goalie war', 'Forward shoot out',\n",
       "       'Classic doubles', 'Amateur doubles', 'Mixed doubles',\n",
       "       'Amateur singles', 'Forward shoot-out', 'Junior singles',\n",
       "       'Team competition', 'Slovak Masters singles',\n",
       "       'Slovak Masters doubles', 'Junior doubles', 'Draw your partner',\n",
       "       'Speedball doubles', 'Amatuer doubles', 'Teams competition',\n",
       "       'Majstrovstvá SR _Goalie war', 'Majstrovstvá SR _Miešané dvojice',\n",
       "       'Majstrovstvá SR _Forward shoot-out',\n",
       "       'Majstrovstvá SR _Speedball doubles',\n",
       "       'Majstrovstvá SR _Classic doubles',\n",
       "       'Majstrovstvá SR _Amateur doubles',\n",
       "       'Majstrovstvá SR _Junior singles', 'Majstrovstvá SR _DYP',\n",
       "       'Majstrovstvá SR _Amateur singles',\n",
       "       'Majstrovstvá SR _Junior doubles', 'Losované dvojice', 'Speedball',\n",
       "       'Masters doubles', 'Masters singles', 'Sundays DYP',\n",
       "       'MAJSTROVSTVÁ UNIVERZÍT /', '_Pro/Am Losované dvojice',\n",
       "       '_Amatérske dvojice', '_Junior doubles', '_Vojna brankárov',\n",
       "       '_Junior singles', '_Miešané dvojice', '_Old school dvojice',\n",
       "       '_Amateur doubles', '_Losované dvojice',\n",
       "       '_Monster Losované dvojice', '_ Ball rollerball', '_Penalty',\n",
       "       '_Monster DYP', 'Juniori jednotlivci (Junior singles)',\n",
       "       'Ball rollerballl', 'Amatérske dvojice (Amateur doubles)',\n",
       "       'Miešané dvojice (Mixed doubles)',\n",
       "       'Losované dvojice (Monster DYP)', 'Vojna brankárov (Goalie war)',\n",
       "       'Dvojice B (Doubles B)', 'Penalty (Forward shoot-out)',\n",
       "       'Losované dvojice (Sunday DYP)', '_Losovaný Ball rollerball',\n",
       "       'Hector', '_Ball rollerball', 'Sunday DYP', 'Doubles B',\n",
       "       'Vojna brankárov', 'Losovaný Ball (Ball DYP)',\n",
       "       'Losované dvojice (DYP)', 'Nedeľný los (SUNDAYS DYP)',\n",
       "       'Women SINGLES', 'Junior SINGLES',\n",
       "       'Jednotlivci juniori (Junior singles)', 'Looser cup',\n",
       "       'Dvojice juniori (Junior doubles)', 'Amatérske tímy', 'Pro tímy',\n",
       "       'Dvojice', 'Jednotlivci (Open singels)', 'Losovaný Ball (Bal DYP)',\n",
       "       'Losovaný ball (ball DYP)', 'Losované dvojice (Draw your partner)',\n",
       "       'ball rollerball', 'Losovaný ball rollerball',\n",
       "       'Amatérske dvojice (Amateur doubles SK)',\n",
       "       'Amatérske dvojice (Amateur doubles) SK',\n",
       "       'Losovaný Ball (BALL DYP)', \"Losované dvojice (DYP) saturday's\",\n",
       "       'Amatérske dvojice (AMATEUR DOUBLES)', 'Ball rollerball DYP',\n",
       "       'Losované dvojice (D.Y.P.)', 'PRO/AM Dvojice (PRO/AM Doubles)',\n",
       "       'PRO/AM dvojice (PRO/AM doubles)',\n",
       "       'Ball rollerball losovaný (Ball DYP)', 'BALL ROLLERBALL DYP',\n",
       "       'BALL ROLLERBALL', 'MSR Juniorské dvojice (Junior doubles)',\n",
       "       'MSR  Ball rollerball', 'MSR Juniorskí jednotlivci (Junior sing',\n",
       "       'MSR Penalty (Forward shoot-out)', 'MSR Losované dvojice (D.Y.P.)',\n",
       "       'MSR Miešané dvojice (Mixed doubles)',\n",
       "       'MSR Vojna brankárov (Goalie war)',\n",
       "       'MSR Amatérske dvojice (Amateur doubles',\n",
       "       'MSR PRO/AM dvojice (PRO/AM doubles)', 'SC  Ball rollerball',\n",
       "       'SC Penalty (Forward shoot-out)',\n",
       "       'SC Miešané dvojice (Mixed doubles)',\n",
       "       'SC Losované dvojice (D.Y.P.)', 'SC Vojna brankárov (Goalie war)',\n",
       "       '_Bratislavský kraj', '_Pohár klubov', '_Mixed doubles',\n",
       "       '_Amateur singles', '_Speedball dvojice', '_Classic doubles',\n",
       "       'Dvojice do  rokov', 'Jednotlivci do  rokov ( Singles)',\n",
       "       'Dvojice do  rokov ( Doubles)', 'Juniorské dvojice',\n",
       "       'Losovaný Ball rollerball', 'Druhá šanca dvojice',\n",
       "       'Dvojice juniori', 'Jednotlivci', 'Losované dvojice PRO/AM',\n",
       "       'PRO/AM Dvojice', 'PRO/AM dvojice', 'Losované PRO/AM dvojice',\n",
       "       'Losovaný  Ball ( BALL D.Y.P.)', '_Trnavský kraj',\n",
       "       '_Ball rollerballl', '_Amatéri jednotlivci', '_Speedball doubles',\n",
       "       '_Amatérski jednotlivci', '_Nitriansky kraj', '_Amat?rske dvojice',\n",
       "       '_Jednotlivci', 'Pro/Am losované dvojice',\n",
       "       'PRO/AM Losované dvojice', 'Amatérski jednotlivci',\n",
       "       'Amatéri jednotlivci', '_Banskobystrický kraj',\n",
       "       '_Trenčiansky kraj', '_Losované dvojice Pro/Am',\n",
       "       'Losovaný  Ball rollerball', 'Losovaný Ball', 'Ball DYP',\n",
       "       'Jendotlivci', 'Penalty', 'Jednotlivici', 'Vojna brankárov Ball',\n",
       "       'Vojna stredov', '_Košický kraj', 'Pro/Am Losované dvojice'],\n",
       "      dtype=object)"
      ]
     },
     "execution_count": 54,
     "metadata": {},
     "output_type": "execute_result"
    }
   ],
   "source": [
    "rest = filtered[~filtered['desc'].str.contains('|'.join(searchfor))]\n",
    "rest['desc'].unique()\n"
   ]
  },
  {
   "cell_type": "code",
   "execution_count": 50,
   "metadata": {},
   "outputs": [
    {
     "data": {
      "text/plain": [
       "array(['KE_RELAX SUMMER CUP _DYP', 'KE_RELAX SUMMER CUP _DYP',\n",
       "       'KE_RELAX SUMMER CUP _DYP', 'KE_RELAX SUMMER CUP _DYP',\n",
       "       'KE_RELAX SUMMER CUP _OS', 'KE_RELAX SUMMER CUP _DYP',\n",
       "       'KE_RELAX SUMMER CUP _DYP', 'KE_RELAX SUMMER CUP _DYP',\n",
       "       'KE_RELAX LETO CUP', 'KE_RELAX LETO CUP', 'KE_RELAX LETO CUP',\n",
       "       'KE_RELAX LETO CUP', 'KE_RELAX LETO CUP', 'KE_RELAX LETO CUP',\n",
       "       'KE_RELAX LETO CUP', 'KE_RELAX LETO CUP'], dtype=object)"
      ]
     },
     "execution_count": 50,
     "metadata": {},
     "output_type": "execute_result"
    }
   ],
   "source": [
    "filtered[filtered['name'].str.contains('RELAX')]['name'].values\n"
   ]
  },
  {
   "cell_type": "code",
   "execution_count": null,
   "metadata": {},
   "outputs": [],
   "source": []
  },
  {
   "cell_type": "code",
   "execution_count": null,
   "metadata": {},
   "outputs": [],
   "source": []
  }
 ],
 "metadata": {
  "kernelspec": {
   "display_name": "Python 3",
   "language": "python",
   "name": "python3"
  },
  "language_info": {
   "codemirror_mode": {
    "name": "ipython",
    "version": 3
   },
   "file_extension": ".py",
   "mimetype": "text/x-python",
   "name": "python",
   "nbconvert_exporter": "python",
   "pygments_lexer": "ipython3",
   "version": "3.8.3"
  }
 },
 "nbformat": 4,
 "nbformat_minor": 4
}
